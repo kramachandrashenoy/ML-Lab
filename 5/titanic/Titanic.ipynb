{
 "cells": [
  {
   "cell_type": "code",
   "execution_count": 5,
   "id": "0438ea0b",
   "metadata": {},
   "outputs": [],
   "source": [
    "# Using sklearn"
   ]
  },
  {
   "cell_type": "code",
   "execution_count": 1,
   "id": "f9648089",
   "metadata": {},
   "outputs": [
    {
     "name": "stdout",
     "output_type": "stream",
     "text": [
      "Confusion Matrix:\n",
      " [[86 19]\n",
      " [37 37]]\n",
      "Accuracy: 0.6871508379888268\n"
     ]
    }
   ],
   "source": [
    "import numpy as np\n",
    "import pandas as pd\n",
    "from sklearn.metrics import confusion_matrix, accuracy_score\n",
    "from sklearn.model_selection import train_test_split\n",
    "from sklearn.naive_bayes import GaussianNB\n",
    "from sklearn.impute import SimpleImputer\n",
    "from sklearn.preprocessing import LabelEncoder\n",
    "\n",
    "# Load the dataset\n",
    "df = pd.read_csv(r\"C:\\Users\\Ramachandra\\OneDrive\\Desktop\\ML Lab\\Titanic-Dataset.csv\")\n",
    "df = df[['Survived', 'Pclass', 'Age', 'SibSp', 'Parch', 'Fare', 'Embarked']]\n",
    "\n",
    "# Handle missing values\n",
    "imputer = SimpleImputer(strategy='median')\n",
    "df[['Age', 'Fare']] = imputer.fit_transform(df[['Age', 'Fare']])\n",
    "\n",
    "df['Embarked'].fillna(df['Embarked'].mode()[0], inplace=True)\n",
    "df['Embarked'] = LabelEncoder().fit_transform(df['Embarked'])\n",
    "\n",
    "# Split the data into train and test sets\n",
    "X = df.drop('Survived', axis=1)\n",
    "y = df['Survived']\n",
    "X_train, X_test, y_train, y_test = train_test_split(X, y, test_size=0.2, random_state=42)\n",
    "\n",
    "# Initialize and fit the Gaussian Naive Bayes classifier\n",
    "classifier = GaussianNB()\n",
    "classifier.fit(X_train, y_train)\n",
    "\n",
    "# Make predictions on the test set\n",
    "y_pred = classifier.predict(X_test)\n",
    "\n",
    "# Evaluate the model\n",
    "cm = confusion_matrix(y_test, y_pred)\n",
    "print(\"Confusion Matrix:\\n\", cm)\n",
    "accuracy = accuracy_score(y_test, y_pred)\n",
    "print(\"Accuracy:\", accuracy)\n"
   ]
  },
  {
   "cell_type": "code",
   "execution_count": 4,
   "id": "4d3662c0",
   "metadata": {},
   "outputs": [],
   "source": [
    "# Without using sklearn"
   ]
  },
  {
   "cell_type": "code",
   "execution_count": 3,
   "id": "bb2be880",
   "metadata": {},
   "outputs": [
    {
     "name": "stdout",
     "output_type": "stream",
     "text": [
      "Confusion Matrix:\n",
      " [[90 20]\n",
      " [35 34]]\n",
      "Accuracy: 0.6927374301675978\n"
     ]
    }
   ],
   "source": [
    "import numpy as np\n",
    "import pandas as pd\n",
    "from sklearn.metrics import confusion_matrix\n",
    "from sklearn.model_selection import train_test_split\n",
    "\n",
    "class NaiveBayesClassifier:\n",
    "  def __init__(self):\n",
    "    self.prior = {}\n",
    "    self.conditional = {}\n",
    "\n",
    "  def fit(self, X, y):\n",
    "    self.classes = np.unique(y)\n",
    "    for c in self.classes:\n",
    "      self.prior[c] = np.mean(y == c)\n",
    "\n",
    "    for feature in X.columns:\n",
    "      self.conditional[feature] = {}\n",
    "      for c in self.classes:\n",
    "        feature_values = X[feature][y == c]\n",
    "        self.conditional[feature][c] = { 'mean': np.mean(feature_values),'std': np.std(feature_values) }\n",
    "\n",
    "  def predict(self, X):\n",
    "    y_pred = []\n",
    "    for _, sample in X.iterrows():\n",
    "      probabilities = {}\n",
    "      for c in self.classes:\n",
    "        probabilities[c] = self.prior[c]\n",
    "        for feature in X.columns:\n",
    "          mean = self.conditional[feature][c]['mean']\n",
    "          std = self.conditional[feature][c]['std']\n",
    "          x = sample[feature]\n",
    "          probabilities[c] *= self._gaussian_pdf(x, mean, std)\n",
    "      y_pred.append(max(probabilities, key=probabilities.get))\n",
    "    return y_pred\n",
    "\n",
    "  def _gaussian_pdf(self, x, mean, std):\n",
    "    exponent = np.exp(-((x - mean) ** 2) / (2 * std ** 2))\n",
    "    return (1 / (np.sqrt(2 * np.pi) * std)) * exponent\n",
    "\n",
    "df = pd.read_csv(r\"C:\\Users\\Ramachandra\\OneDrive\\Desktop\\ML Lab\\Titanic-Dataset.csv\")\n",
    "df = df[['Survived', 'Pclass', 'Age', 'SibSp', 'Parch', 'Fare', 'Embarked']]\n",
    "df['Age'].fillna(df['Age'].median(), inplace=True)\n",
    "df['Fare'].fillna(df['Fare'].median(), inplace=True)\n",
    "df['Embarked'].fillna(df['Embarked'].mode()[0], inplace=True)\n",
    "df['Embarked'] = df['Embarked'].map({'C': 0, 'Q': 1, 'S': 2})\n",
    "\n",
    "train, test = train_test_split(df, test_size=0.2)\n",
    "\n",
    "X_train = train.drop('Survived', axis=1)\n",
    "y_train = train['Survived']\n",
    "X_test = test.drop('Survived', axis=1)\n",
    "y_test = test['Survived']\n",
    "\n",
    "classifier = NaiveBayesClassifier()\n",
    "classifier.fit(X_train, y_train)\n",
    "y_pred = classifier.predict(X_test)\n",
    "\n",
    "cm = confusion_matrix(y_test, y_pred)\n",
    "print(\"Confusion Matrix:\\n\", cm)\n",
    "accuracy = np.mean(y_pred == y_test)\n",
    "print(\"Accuracy:\", accuracy)"
   ]
  },
  {
   "cell_type": "code",
   "execution_count": null,
   "id": "969346be",
   "metadata": {},
   "outputs": [],
   "source": []
  }
 ],
 "metadata": {
  "kernelspec": {
   "display_name": "Python 3 (ipykernel)",
   "language": "python",
   "name": "python3"
  },
  "language_info": {
   "codemirror_mode": {
    "name": "ipython",
    "version": 3
   },
   "file_extension": ".py",
   "mimetype": "text/x-python",
   "name": "python",
   "nbconvert_exporter": "python",
   "pygments_lexer": "ipython3",
   "version": "3.9.13"
  }
 },
 "nbformat": 4,
 "nbformat_minor": 5
}
