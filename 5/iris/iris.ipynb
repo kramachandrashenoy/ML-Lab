{
 "cells": [
  {
   "cell_type": "code",
   "execution_count": 10,
   "id": "aa21c065",
   "metadata": {},
   "outputs": [],
   "source": [
    "#using sklearn"
   ]
  },
  {
   "cell_type": "code",
   "execution_count": 3,
   "id": "a1f0165e",
   "metadata": {},
   "outputs": [
    {
     "name": "stdout",
     "output_type": "stream",
     "text": [
      "                 precision    recall  f1-score   support\n",
      "\n",
      "    Iris-setosa       1.00      1.00      1.00        11\n",
      "Iris-versicolor       1.00      1.00      1.00        13\n",
      " Iris-virginica       1.00      1.00      1.00         6\n",
      "\n",
      "       accuracy                           1.00        30\n",
      "      macro avg       1.00      1.00      1.00        30\n",
      "   weighted avg       1.00      1.00      1.00        30\n",
      "\n",
      "[[11  0  0]\n",
      " [ 0 13  0]\n",
      " [ 0  0  6]]\n",
      "accuracy is 1.0\n"
     ]
    }
   ],
   "source": [
    "import numpy as np \n",
    "import pandas as pd \n",
    "from sklearn.metrics import confusion_matrix, classification_report, accuracy_score\n",
    "from sklearn.model_selection import train_test_split\n",
    "from sklearn.naive_bayes import GaussianNB\n",
    "\n",
    "iris = pd.read_csv(r\"C:\\Users\\Ramachandra\\OneDrive\\Desktop\\ML Lab\\Iris.csv\")\n",
    "iris.head()\n",
    "\n",
    "X = iris.iloc[:, :-1].values\n",
    "y = iris.iloc[:, -1].values\n",
    "\n",
    "X_train, X_test, y_train, y_test = train_test_split(X, y, test_size=0.2, random_state=0)\n",
    "\n",
    "classifier = GaussianNB()\n",
    "classifier.fit(X_train, y_train)\n",
    "\n",
    "y_pred = classifier.predict(X_test)\n",
    "\n",
    "print(classification_report(y_test, y_pred))\n",
    "print(confusion_matrix(y_test, y_pred))\n",
    "print('accuracy is', accuracy_score(y_test, y_pred))\n"
   ]
  },
  {
   "cell_type": "code",
   "execution_count": 11,
   "id": "7f144172",
   "metadata": {},
   "outputs": [],
   "source": [
    "#without using sklearn"
   ]
  },
  {
   "cell_type": "code",
   "execution_count": 9,
   "id": "6800dcb7",
   "metadata": {},
   "outputs": [
    {
     "name": "stdout",
     "output_type": "stream",
     "text": [
      "Accuracy: 0.8444444444444444\n",
      "Confusion Matrix:\n",
      " [[19  0  0]\n",
      " [ 0 13  7]\n",
      " [ 0  0  6]]\n"
     ]
    }
   ],
   "source": [
    "import numpy as np\n",
    "import pandas as pd\n",
    "import math\n",
    "from sklearn.model_selection import train_test_split\n",
    "from sklearn.metrics import accuracy_score, confusion_matrix\n",
    "\n",
    "# Load and preprocess the Iris dataset\n",
    "iris = pd.read_csv('Iris.csv')\n",
    "species = {'Iris-setosa': 0, 'Iris-versicolor': 1, 'Iris-virginica': 2}\n",
    "iris['Species'] = iris['Species'].map(species)\n",
    "\n",
    "# Function to separate the dataset according to their label and store in a dictionary\n",
    "def divide_by_label(dataset):\n",
    "    label_divided_data = {}\n",
    "    for row in dataset:\n",
    "        label = row[-1]\n",
    "        if label not in label_divided_data:\n",
    "            label_divided_data[label] = []\n",
    "        label_divided_data[label].append(row[:-1])\n",
    "    return label_divided_data\n",
    "\n",
    "# Calculate the mean of a column\n",
    "def calculate_mean(column):\n",
    "    return np.mean(column)\n",
    "\n",
    "# Calculate the standard deviation of a column\n",
    "def calculate_std_div(column):\n",
    "    return np.std(column)\n",
    "\n",
    "# Calculate mean and standard deviation for each column in the dataset based on class labels\n",
    "def calculate_mean_std_div_by_class(data):\n",
    "    divided_dataset = divide_by_label(data)\n",
    "    mean_std_by_label = {}\n",
    "    for label, rows in divided_dataset.items():\n",
    "        mean_std_by_label[label] = [(calculate_mean(col), calculate_std_div(col)) for col in np.array(rows).T]\n",
    "    return mean_std_by_label\n",
    "\n",
    "# Calculate Gaussian probability density\n",
    "def calculate_prob_density(x, mean, std_div):\n",
    "    if std_div == 0:\n",
    "        return 0  # Handle division by zero gracefully\n",
    "    exponent = math.exp(-((x - mean) ** 2) / (2 * std_div ** 2))\n",
    "    return (1 / (math.sqrt(2 * math.pi) * std_div)) * exponent\n",
    "\n",
    "# Calculate probability that X (a test case) belongs to a class Ci\n",
    "def calculate_class_prob(mean_std_by_label, test_case):\n",
    "    probabilities = {}\n",
    "    for label, mean_std in mean_std_by_label.items():\n",
    "        probabilities[label] = 1\n",
    "        for i in range(len(mean_std)):\n",
    "            mean, std_div = mean_std[i]\n",
    "            x = test_case[i]\n",
    "            probabilities[label] *= calculate_prob_density(x, mean, std_div)\n",
    "    return probabilities\n",
    "\n",
    "# Predict class labels\n",
    "def predict_label(mean_std_by_label, test_case):\n",
    "    probabilities = calculate_class_prob(mean_std_by_label, test_case)\n",
    "    best_label, best_prob = None, -1\n",
    "    for key, probability in probabilities.items():\n",
    "        if best_label is None or probability > best_prob:\n",
    "            best_prob = probability\n",
    "            best_label = key\n",
    "    return best_label\n",
    "\n",
    "# Naive Bayes classifier\n",
    "def naive_bayesian_classifier(training_set, test_set):\n",
    "    mean_std_each_label = calculate_mean_std_div_by_class(training_set)\n",
    "    predictions = []\n",
    "    for test_case in test_set:\n",
    "        pred = predict_label(mean_std_each_label, test_case)\n",
    "        predictions.append(pred)\n",
    "    return predictions\n",
    "\n",
    "# Prepare the dataset and perform train-test split\n",
    "X = iris[['SepalLengthCm', 'SepalWidthCm', 'PetalLengthCm', 'PetalWidthCm']].values\n",
    "y = iris['Species'].values\n",
    "X_train, X_test, y_train, y_test = train_test_split(X, y, test_size=0.3, random_state=42)\n",
    "\n",
    "# Run the Naive Bayes classifier\n",
    "predicted_labels = naive_bayesian_classifier(X_train, X_test)\n",
    "\n",
    "# Convert predicted labels to integers\n",
    "predicted_labels = np.array(predicted_labels, dtype=int)\n",
    "\n",
    "# Evaluate the model\n",
    "accuracy = accuracy_score(predicted_labels, y_test)\n",
    "print(\"Accuracy:\", accuracy)\n",
    "cm = confusion_matrix(predicted_labels, y_test)\n",
    "print(\"Confusion Matrix:\\n\", cm)\n"
   ]
  },
  {
   "cell_type": "code",
   "execution_count": null,
   "id": "a60564bd",
   "metadata": {},
   "outputs": [],
   "source": []
  }
 ],
 "metadata": {
  "kernelspec": {
   "display_name": "Python 3 (ipykernel)",
   "language": "python",
   "name": "python3"
  },
  "language_info": {
   "codemirror_mode": {
    "name": "ipython",
    "version": 3
   },
   "file_extension": ".py",
   "mimetype": "text/x-python",
   "name": "python",
   "nbconvert_exporter": "python",
   "pygments_lexer": "ipython3",
   "version": "3.9.13"
  }
 },
 "nbformat": 4,
 "nbformat_minor": 5
}
