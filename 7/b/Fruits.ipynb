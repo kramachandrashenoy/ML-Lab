{
 "cells": [
  {
   "cell_type": "markdown",
   "id": "a75cde84",
   "metadata": {},
   "source": [
    "# Using SK Learn"
   ]
  },
  {
   "cell_type": "code",
   "execution_count": 7,
   "id": "85b8b785",
   "metadata": {},
   "outputs": [
    {
     "name": "stdout",
     "output_type": "stream",
     "text": [
      "Accuracy with Euclidean distance (using sklearn): 0.5833333333333334\n",
      "Accuracy with Manhattan distance (using sklearn): 0.5833333333333334\n"
     ]
    }
   ],
   "source": [
    "import numpy as np\n",
    "import pandas as pd\n",
    "from sklearn.model_selection import train_test_split\n",
    "from sklearn.neighbors import KNeighborsClassifier\n",
    "from sklearn.metrics import accuracy_score\n",
    "\n",
    "\n",
    "df = pd.read_csv('fruits.csv')\n",
    "y = df['fruit_label'].values\n",
    "X = df[['mass', 'width', 'height', 'color_score']].values\n",
    "\n",
    "X_train, X_test, y_train, y_test = train_test_split(X, y, test_size=0.2, random_state=45)\n",
    "\n",
    "# Using scikit-learn with Euclidean distance\n",
    "clf_euclidean = KNeighborsClassifier(n_neighbors=5, metric=euclidean_distance)\n",
    "clf_euclidean.fit(X_train, y_train)\n",
    "predictions_euclidean = clf_euclidean.predict(X_test)\n",
    "\n",
    "accuracy_euclidean = accuracy_score(y_test, predictions_euclidean)\n",
    "print(\"Accuracy with Euclidean distance (using sklearn):\", accuracy_euclidean)\n",
    "\n",
    "# Using scikit-learn with Manhattan distance\n",
    "clf_manhattan = KNeighborsClassifier(n_neighbors=5, metric=manhattan_distance)\n",
    "clf_manhattan.fit(X_train, y_train)\n",
    "predictions_manhattan = clf_manhattan.predict(X_test)\n",
    "\n",
    "accuracy_manhattan = accuracy_score(y_test, predictions_manhattan)\n",
    "print(\"Accuracy with Manhattan distance (using sklearn):\", accuracy_manhattan)\n"
   ]
  },
  {
   "cell_type": "markdown",
   "id": "f42791b4",
   "metadata": {},
   "source": [
    "# "
   ]
  },
  {
   "cell_type": "code",
   "execution_count": 5,
   "id": "ec9492bb",
   "metadata": {},
   "outputs": [
    {
     "name": "stdout",
     "output_type": "stream",
     "text": [
      "Accuracy with Euclidean distance (without sklearn): 0.6666666666666666\n",
      "Accuracy with Manhattan distance (without sklearn): 0.6666666666666666\n"
     ]
    }
   ],
   "source": [
    "import numpy as np\n",
    "import pandas as pd\n",
    "from collections import Counter\n",
    "from sklearn.model_selection import train_test_split\n",
    "\n",
    "def euclidean_distance(x1, x2):\n",
    "    distance = np.sqrt(np.sum((x1 - x2) ** 2))\n",
    "    return distance\n",
    "\n",
    "def manhattan_distance(x1, x2):\n",
    "    distance = np.sum(np.abs(x1 - x2))\n",
    "    return distance\n",
    "\n",
    "class KNN:\n",
    "    def __init__(self, k, distance_metric):\n",
    "        self.k = k\n",
    "        self.distance_metric = distance_metric\n",
    "\n",
    "    def fit(self, X, y):\n",
    "        self.X_train = X\n",
    "        self.y_train = y\n",
    "\n",
    "    def predict(self, X):\n",
    "        predictions = [self._predict(x) for x in X]\n",
    "        return predictions\n",
    "\n",
    "    def _predict(self, x):\n",
    "        distances = [self.distance_metric(x, x_train) for x_train in self.X_train]\n",
    "        k_indices = np.argsort(distances)[:self.k]\n",
    "        k_nearest_labels = [self.y_train[i] for i in k_indices]\n",
    "        most_common = Counter(k_nearest_labels).most_common()\n",
    "        return most_common[0][0]\n",
    "\n",
    "df = pd.read_csv('fruits.csv')\n",
    "y = df['fruit_label'].values\n",
    "X = df[['mass', 'width', 'height', 'color_score']].values\n",
    "\n",
    "X_train, X_test, y_train, y_test = train_test_split(X, y, test_size=0.2, random_state=45)\n",
    "\n",
    "# Without using scikit-learn with Euclidean distance\n",
    "clf_euclidean_custom = KNN(k=5, distance_metric=euclidean_distance)\n",
    "clf_euclidean_custom.fit(X_train, y_train)\n",
    "predictions_euclidean_custom = clf_euclidean_custom.predict(X_test)\n",
    "\n",
    "accuracy_euclidean_custom = np.sum(predictions_euclidean_custom == y_test) / len(y_test)\n",
    "print(\"Accuracy with Euclidean distance (without sklearn):\", accuracy_euclidean_custom)\n",
    "\n",
    "# Without using scikit-learn with Manhattan distance\n",
    "clf_manhattan_custom = KNN(k=5, distance_metric=manhattan_distance)\n",
    "clf_manhattan_custom.fit(X_train, y_train)\n",
    "predictions_manhattan_custom = clf_manhattan_custom.predict(X_test)\n",
    "\n",
    "accuracy_manhattan_custom = np.sum(predictions_manhattan_custom == y_test) / len(y_test)\n",
    "print(\"Accuracy with Manhattan distance (without sklearn):\", accuracy_manhattan_custom)\n"
   ]
  },
  {
   "cell_type": "markdown",
   "id": "972cdcef",
   "metadata": {},
   "source": [
    "# Using SK Learn"
   ]
  },
  {
   "cell_type": "code",
   "execution_count": 6,
   "id": "24270851",
   "metadata": {},
   "outputs": [
    {
     "name": "stdout",
     "output_type": "stream",
     "text": [
      "Accuracy with Euclidean distance (using sklearn): 0.5833333333333334\n",
      "Accuracy with Manhattan distance (using sklearn): 0.5833333333333334\n"
     ]
    }
   ],
   "source": [
    "import numpy as np\n",
    "import pandas as pd\n",
    "from sklearn.model_selection import train_test_split\n",
    "from sklearn.neighbors import KNeighborsClassifier\n",
    "from sklearn.metrics import accuracy_score\n",
    "\n",
    "\n",
    "df = pd.read_csv('fruits.csv')\n",
    "y = df['fruit_label'].values\n",
    "X = df[['mass', 'width', 'height', 'color_score']].values\n",
    "\n",
    "X_train, X_test, y_train, y_test = train_test_split(X, y, test_size=0.2, random_state=45)\n",
    "\n",
    "# Using scikit-learn with Euclidean distance\n",
    "clf_euclidean = KNeighborsClassifier(n_neighbors=5, metric=euclidean_distance)\n",
    "clf_euclidean.fit(X_train, y_train)\n",
    "predictions_euclidean = clf_euclidean.predict(X_test)\n",
    "\n",
    "accuracy_euclidean = accuracy_score(y_test, predictions_euclidean)\n",
    "print(\"Accuracy with Euclidean distance (using sklearn):\", accuracy_euclidean)\n",
    "\n",
    "# Using scikit-learn with Manhattan distance\n",
    "clf_manhattan = KNeighborsClassifier(n_neighbors=5, metric=manhattan_distance)\n",
    "clf_manhattan.fit(X_train, y_train)\n",
    "predictions_manhattan = clf_manhattan.predict(X_test)\n",
    "\n",
    "accuracy_manhattan = accuracy_score(y_test, predictions_manhattan)\n",
    "print(\"Accuracy with Manhattan distance (using sklearn):\", accuracy_manhattan)\n"
   ]
  },
  {
   "cell_type": "code",
   "execution_count": null,
   "id": "f90f0de1",
   "metadata": {},
   "outputs": [],
   "source": []
  }
 ],
 "metadata": {
  "kernelspec": {
   "display_name": "Python 3 (ipykernel)",
   "language": "python",
   "name": "python3"
  },
  "language_info": {
   "codemirror_mode": {
    "name": "ipython",
    "version": 3
   },
   "file_extension": ".py",
   "mimetype": "text/x-python",
   "name": "python",
   "nbconvert_exporter": "python",
   "pygments_lexer": "ipython3",
   "version": "3.9.13"
  }
 },
 "nbformat": 4,
 "nbformat_minor": 5
}
