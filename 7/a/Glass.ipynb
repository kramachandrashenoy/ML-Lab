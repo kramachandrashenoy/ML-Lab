{
 "cells": [
  {
   "cell_type": "markdown",
   "id": "7f87c4c2",
   "metadata": {},
   "source": [
    "# Using SK Learn"
   ]
  },
  {
   "cell_type": "markdown",
   "id": "5719e544",
   "metadata": {},
   "source": [
    "# Euclidean distance"
   ]
  },
  {
   "cell_type": "code",
   "execution_count": 2,
   "id": "eed2cc56",
   "metadata": {},
   "outputs": [
    {
     "name": "stdout",
     "output_type": "stream",
     "text": [
      "Accuracy with Euclidean distance: 0.7076923076923077\n"
     ]
    }
   ],
   "source": [
    "import numpy as np\n",
    "import pandas as pd\n",
    "from sklearn.model_selection import train_test_split\n",
    "from sklearn.neighbors import KNeighborsClassifier\n",
    "from sklearn.metrics import accuracy_score\n",
    "\n",
    "df = pd.read_csv('glass.csv')\n",
    "y = df['Type'].values\n",
    "X = df.drop('Type', axis=1).values\n",
    "\n",
    "X_train, X_test, y_train, y_test = train_test_split(X, y, test_size=0.3)\n",
    "clf_euclidean = KNeighborsClassifier(n_neighbors=3, metric='euclidean')\n",
    "clf_euclidean.fit(X_train, y_train)\n",
    "predictions_euclidean = clf_euclidean.predict(X_test)\n",
    "\n",
    "accuracy_euclidean = accuracy_score(y_test, predictions_euclidean)\n",
    "print(\"Accuracy with Euclidean distance:\", accuracy_euclidean)\n"
   ]
  },
  {
   "cell_type": "markdown",
   "id": "9b214a8a",
   "metadata": {},
   "source": [
    "# Manhattan distance"
   ]
  },
  {
   "cell_type": "code",
   "execution_count": 4,
   "id": "20557a77",
   "metadata": {},
   "outputs": [
    {
     "name": "stdout",
     "output_type": "stream",
     "text": [
      "Accuracy with Manhattan distance: 0.7076923076923077\n"
     ]
    }
   ],
   "source": [
    "import numpy as np\n",
    "import pandas as pd\n",
    "from sklearn.model_selection import train_test_split\n",
    "from sklearn.neighbors import KNeighborsClassifier\n",
    "from sklearn.metrics import accuracy_score\n",
    "\n",
    "df = pd.read_csv('glass.csv')\n",
    "y = df['Type'].values\n",
    "X = df.drop('Type', axis=1).values\n",
    "\n",
    "X_train, X_test, y_train, y_test = train_test_split(X, y, test_size=0.3)\n",
    "clf_manhattan = KNeighborsClassifier(n_neighbors=3, metric='manhattan')\n",
    "clf_manhattan.fit(X_train, y_train)\n",
    "predictions_manhattan = clf_manhattan.predict(X_test)\n",
    "\n",
    "accuracy_manhattan = accuracy_score(y_test, predictions_manhattan)\n",
    "print(\"Accuracy with Manhattan distance:\", accuracy_manhattan)\n"
   ]
  },
  {
   "cell_type": "markdown",
   "id": "6072e2ef",
   "metadata": {},
   "source": [
    "# Without using SK Learn"
   ]
  },
  {
   "cell_type": "markdown",
   "id": "75996eee",
   "metadata": {},
   "source": [
    "# Euclidean distance"
   ]
  },
  {
   "cell_type": "code",
   "execution_count": 6,
   "id": "e09c9c7a",
   "metadata": {},
   "outputs": [
    {
     "name": "stdout",
     "output_type": "stream",
     "text": [
      "Accuracy with Euclidean distance (without sklearn): 0.7384615384615385\n"
     ]
    }
   ],
   "source": [
    "import numpy as np\n",
    "import pandas as pd\n",
    "from collections import Counter\n",
    "from sklearn.model_selection import train_test_split\n",
    "\n",
    "def euclidean_distance(x1, x2):\n",
    "    distance = np.sqrt(np.sum((x1 - x2) ** 2))\n",
    "    return distance\n",
    "\n",
    "class KNN:\n",
    "    def __init__(self, k):\n",
    "        self.k = k\n",
    "\n",
    "    def fit(self, X, y):\n",
    "        self.X_train = X\n",
    "        self.y_train = y\n",
    "\n",
    "    def predict(self, X):\n",
    "        predictions = [self._predict(x) for x in X]\n",
    "        return predictions\n",
    "\n",
    "    def _predict(self, x):\n",
    "        distances = [euclidean_distance(x, x_train) for x_train in self.X_train]\n",
    "        k_indices = np.argsort(distances)[:self.k]\n",
    "        k_nearest_labels = [self.y_train[i] for i in k_indices]\n",
    "        most_common = Counter(k_nearest_labels).most_common()\n",
    "        return most_common[0][0]\n",
    "\n",
    "df = pd.read_csv('glass.csv')\n",
    "y = df['Type'].values\n",
    "X = df.drop('Type', axis=1).values\n",
    "\n",
    "X_train, X_test, y_train, y_test = train_test_split(X, y, test_size=0.3)\n",
    "clf_euclidean = KNN(k=3)\n",
    "clf_euclidean.fit(X_train, y_train)\n",
    "predictions_euclidean = clf_euclidean.predict(X_test)\n",
    "\n",
    "accuracy_euclidean = np.sum(predictions_euclidean == y_test) / len(y_test)\n",
    "print(\"Accuracy with Euclidean distance (without sklearn):\", accuracy_euclidean)\n"
   ]
  },
  {
   "cell_type": "code",
   "execution_count": 7,
   "id": "e10ffb2d",
   "metadata": {},
   "outputs": [
    {
     "name": "stdout",
     "output_type": "stream",
     "text": [
      "Accuracy with Manhattan distance (without sklearn): 0.7076923076923077\n"
     ]
    }
   ],
   "source": [
    "import numpy as np\n",
    "import pandas as pd\n",
    "from collections import Counter\n",
    "from sklearn.model_selection import train_test_split\n",
    "\n",
    "def manhattan_distance(x1, x2):\n",
    "    distance = np.sum(np.abs(x1 - x2))\n",
    "    return distance\n",
    "\n",
    "class KNN_Manhattan:\n",
    "    def __init__(self, k):\n",
    "        self.k = k\n",
    "\n",
    "    def fit(self, X, y):\n",
    "        self.X_train = X\n",
    "        self.y_train = y\n",
    "\n",
    "    def predict(self, X):\n",
    "        predictions = [self._predict(x) for x in X]\n",
    "        return predictions\n",
    "\n",
    "    def _predict(self, x):\n",
    "        distances = [manhattan_distance(x, x_train) for x_train in self.X_train]\n",
    "        k_indices = np.argsort(distances)[:self.k]\n",
    "        k_nearest_labels = [self.y_train[i] for i in k_indices]\n",
    "        most_common = Counter(k_nearest_labels).most_common()\n",
    "        return most_common[0][0]\n",
    "\n",
    "df = pd.read_csv('glass.csv')\n",
    "y = df['Type'].values\n",
    "X = df.drop('Type', axis=1).values\n",
    "\n",
    "X_train, X_test, y_train, y_test = train_test_split(X, y, test_size=0.3)\n",
    "clf_manhattan = KNN_Manhattan(k=3)\n",
    "clf_manhattan.fit(X_train, y_train)\n",
    "predictions_manhattan = clf_manhattan.predict(X_test)\n",
    "\n",
    "accuracy_manhattan = np.sum(predictions_manhattan == y_test) / len(y_test)\n",
    "print(\"Accuracy with Manhattan distance (without sklearn):\", accuracy_manhattan)\n"
   ]
  },
  {
   "cell_type": "code",
   "execution_count": null,
   "id": "53b60172",
   "metadata": {},
   "outputs": [],
   "source": []
  }
 ],
 "metadata": {
  "kernelspec": {
   "display_name": "Python 3 (ipykernel)",
   "language": "python",
   "name": "python3"
  },
  "language_info": {
   "codemirror_mode": {
    "name": "ipython",
    "version": 3
   },
   "file_extension": ".py",
   "mimetype": "text/x-python",
   "name": "python",
   "nbconvert_exporter": "python",
   "pygments_lexer": "ipython3",
   "version": "3.9.13"
  }
 },
 "nbformat": 4,
 "nbformat_minor": 5
}
