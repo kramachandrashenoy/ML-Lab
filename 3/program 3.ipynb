{
 "cells": [
  {
   "cell_type": "markdown",
   "id": "1668c71d",
   "metadata": {},
   "source": [
    "# Best First Search (BFS) Algorithm"
   ]
  },
  {
   "cell_type": "code",
   "execution_count": 1,
   "id": "86a84d76",
   "metadata": {},
   "outputs": [
    {
     "name": "stdout",
     "output_type": "stream",
     "text": [
      "Best First Search Path: ['A', 'B', 'D']\n"
     ]
    }
   ],
   "source": [
    "import heapq\n",
    "\n",
    "def best_first_search(graph, start, goal, heuristic):\n",
    "    # Priority queue for exploring nodes based on heuristic\n",
    "    priority_queue = []\n",
    "    heapq.heappush(priority_queue, (heuristic[start], start))\n",
    "    visited = set()\n",
    "    parent = {start: None}\n",
    "\n",
    "    while priority_queue:\n",
    "        current_heuristic, current_node = heapq.heappop(priority_queue)\n",
    "\n",
    "        if current_node in visited:\n",
    "            continue\n",
    "\n",
    "        visited.add(current_node)\n",
    "\n",
    "        if current_node == goal:\n",
    "            break\n",
    "\n",
    "        for neighbor in graph[current_node]:\n",
    "            if neighbor not in visited:\n",
    "                heapq.heappush(priority_queue, (heuristic[neighbor], neighbor))\n",
    "                parent[neighbor] = current_node\n",
    "\n",
    "    path = []\n",
    "    node = goal\n",
    "    while node is not None:\n",
    "        path.append(node)\n",
    "        node = parent[node]\n",
    "    path.reverse()\n",
    "\n",
    "    return path\n",
    "\n",
    "# Example graph\n",
    "graph = {\n",
    "    'A': ['B', 'C'],\n",
    "    'B': ['D', 'E'],\n",
    "    'C': ['F', 'G'],\n",
    "    'D': [],\n",
    "    'E': [],\n",
    "    'F': [],\n",
    "    'G': []\n",
    "}\n",
    "\n",
    "# Example heuristic values (assumed for demonstration)\n",
    "heuristic = {\n",
    "    'A': 6,\n",
    "    'B': 4,\n",
    "    'C': 4,\n",
    "    'D': 0,\n",
    "    'E': 2,\n",
    "    'F': 3,\n",
    "    'G': 1\n",
    "}\n",
    "\n",
    "start = 'A'\n",
    "goal = 'D'\n",
    "\n",
    "path = best_first_search(graph, start, goal, heuristic)\n",
    "print(\"Best First Search Path:\", path)\n"
   ]
  },
  {
   "cell_type": "markdown",
   "id": "91e2e895",
   "metadata": {},
   "source": [
    "# A* Algorithm"
   ]
  },
  {
   "cell_type": "code",
   "execution_count": 2,
   "id": "231661b4",
   "metadata": {},
   "outputs": [
    {
     "name": "stdout",
     "output_type": "stream",
     "text": [
      "A* Search Path: ['A', 'B', 'D']\n"
     ]
    }
   ],
   "source": [
    "import heapq\n",
    "\n",
    "def a_star_search(graph, start, goal, heuristic, cost):\n",
    "    # Priority queue for exploring nodes\n",
    "    priority_queue = []\n",
    "    heapq.heappush(priority_queue, (0 + heuristic[start], start))\n",
    "    visited = set()\n",
    "    g_cost = {start: 0}\n",
    "    parent = {start: None}\n",
    "\n",
    "    while priority_queue:\n",
    "        current_cost, current_node = heapq.heappop(priority_queue)\n",
    "\n",
    "        if current_node in visited:\n",
    "            continue\n",
    "\n",
    "        visited.add(current_node)\n",
    "\n",
    "        if current_node == goal:\n",
    "            break\n",
    "\n",
    "        for neighbor in graph[current_node]:\n",
    "            new_cost = g_cost[current_node] + cost[(current_node, neighbor)]\n",
    "            if neighbor not in g_cost or new_cost < g_cost[neighbor]:\n",
    "                g_cost[neighbor] = new_cost\n",
    "                f_cost = new_cost + heuristic[neighbor]\n",
    "                heapq.heappush(priority_queue, (f_cost, neighbor))\n",
    "                parent[neighbor] = current_node\n",
    "\n",
    "    path = []\n",
    "    node = goal\n",
    "    while node is not None:\n",
    "        path.append(node)\n",
    "        node = parent[node]\n",
    "    path.reverse()\n",
    "\n",
    "    return path\n",
    "\n",
    "# Example graph\n",
    "graph = {\n",
    "    'A': ['B', 'C'],\n",
    "    'B': ['D', 'E'],\n",
    "    'C': ['F', 'G'],\n",
    "    'D': [],\n",
    "    'E': [],\n",
    "    'F': [],\n",
    "    'G': []\n",
    "}\n",
    "\n",
    "# Example heuristic values (assumed for demonstration)\n",
    "heuristic = {\n",
    "    'A': 6,\n",
    "    'B': 4,\n",
    "    'C': 4,\n",
    "    'D': 0,\n",
    "    'E': 2,\n",
    "    'F': 3,\n",
    "    'G': 1\n",
    "}\n",
    "\n",
    "# Example costs between nodes (assumed for demonstration)\n",
    "cost = {\n",
    "    ('A', 'B'): 1,\n",
    "    ('A', 'C'): 1,\n",
    "    ('B', 'D'): 1,\n",
    "    ('B', 'E'): 3,\n",
    "    ('C', 'F'): 5,\n",
    "    ('C', 'G'): 2\n",
    "}\n",
    "\n",
    "start = 'A'\n",
    "goal = 'D'\n",
    "\n",
    "path = a_star_search(graph, start, goal, heuristic, cost)\n",
    "print(\"A* Search Path:\", path)\n"
   ]
  },
  {
   "cell_type": "code",
   "execution_count": null,
   "id": "f6416473",
   "metadata": {},
   "outputs": [],
   "source": []
  }
 ],
 "metadata": {
  "kernelspec": {
   "display_name": "Python 3 (ipykernel)",
   "language": "python",
   "name": "python3"
  },
  "language_info": {
   "codemirror_mode": {
    "name": "ipython",
    "version": 3
   },
   "file_extension": ".py",
   "mimetype": "text/x-python",
   "name": "python",
   "nbconvert_exporter": "python",
   "pygments_lexer": "ipython3",
   "version": "3.9.19"
  }
 },
 "nbformat": 4,
 "nbformat_minor": 5
}
