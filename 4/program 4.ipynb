{
 "cells": [
  {
   "cell_type": "markdown",
   "id": "9e468af0",
   "metadata": {},
   "source": [
    "# Min-Max Algorithm"
   ]
  },
  {
   "cell_type": "code",
   "execution_count": 1,
   "id": "ad37855f",
   "metadata": {},
   "outputs": [
    {
     "name": "stdout",
     "output_type": "stream",
     "text": [
      "The optimal value is: 12\n",
      "The path taken is: [0, 1, 2, 4]\n"
     ]
    }
   ],
   "source": [
    "def minmax(depth, nodeIndex, maximizingPlayer, values, alpha, beta, path):\n",
    "    if depth == 3:\n",
    "        return values[nodeIndex], path + [nodeIndex]\n",
    "    \n",
    "    if maximizingPlayer:\n",
    "        best = float('-inf')\n",
    "        best_path = []\n",
    "        for i in range(2):\n",
    "            val, new_path = minmax(depth + 1, nodeIndex * 2 + i, False, values, alpha, beta, path + [nodeIndex])\n",
    "            if val > best:\n",
    "                best = val\n",
    "                best_path = new_path\n",
    "        return best, best_path\n",
    "    else:\n",
    "        best = float('inf')\n",
    "        best_path = []\n",
    "        for i in range(2):\n",
    "            val, new_path = minmax(depth + 1, nodeIndex * 2 + i, True, values, alpha, beta, path + [nodeIndex])\n",
    "            if val < best:\n",
    "                best = val\n",
    "                best_path = new_path\n",
    "        return best, best_path\n",
    "\n",
    "# Example tree with depth 3 and 8 terminal nodes\n",
    "values = [3, 5, 2, 9, 12, 5, 23, 23]\n",
    "\n",
    "# Start the Min-Max algorithm\n",
    "optimal_value, optimal_path = minmax(0, 0, True, values, float('-inf'), float('inf'), [])\n",
    "print(\"The optimal value is:\", optimal_value)\n",
    "print(\"The path taken is:\", optimal_path)\n"
   ]
  },
  {
   "cell_type": "markdown",
   "id": "1abdefb5",
   "metadata": {},
   "source": [
    "# Alpha-Beta Pruning Algorithm"
   ]
  },
  {
   "cell_type": "code",
   "execution_count": 2,
   "id": "7c6f1d2b",
   "metadata": {},
   "outputs": [
    {
     "name": "stdout",
     "output_type": "stream",
     "text": [
      "The optimal value is: 12\n",
      "The path taken is: [0, 1, 2, 4]\n"
     ]
    }
   ],
   "source": [
    "def alphabeta(depth, nodeIndex, maximizingPlayer, values, alpha, beta, path):\n",
    "    if depth == 3:\n",
    "        return values[nodeIndex], path + [nodeIndex]\n",
    "\n",
    "    if maximizingPlayer:\n",
    "        best = float('-inf')\n",
    "        best_path = []\n",
    "        for i in range(2):\n",
    "            val, new_path = alphabeta(depth + 1, nodeIndex * 2 + i, False, values, alpha, beta, path + [nodeIndex])\n",
    "            if val > best:\n",
    "                best = val\n",
    "                best_path = new_path\n",
    "            alpha = max(alpha, best)\n",
    "            if beta <= alpha:\n",
    "                break\n",
    "        return best, best_path\n",
    "    else:\n",
    "        best = float('inf')\n",
    "        best_path = []\n",
    "        for i in range(2):\n",
    "            val, new_path = alphabeta(depth + 1, nodeIndex * 2 + i, True, values, alpha, beta, path + [nodeIndex])\n",
    "            if val < best:\n",
    "                best = val\n",
    "                best_path = new_path\n",
    "            beta = min(beta, best)\n",
    "            if beta <= alpha:\n",
    "                break\n",
    "        return best, best_path\n",
    "\n",
    "# Example tree with depth 3 and 8 terminal nodes\n",
    "values = [3, 5, 2, 9, 12, 5, 23, 23]\n",
    "\n",
    "# Start the Alpha-Beta Pruning algorithm\n",
    "optimal_value, optimal_path = alphabeta(0, 0, True, values, float('-inf'), float('inf'), [])\n",
    "print(\"The optimal value is:\", optimal_value)\n",
    "print(\"The path taken is:\", optimal_path)"
   ]
  },
  {
   "cell_type": "code",
   "execution_count": null,
   "id": "66fe967c",
   "metadata": {},
   "outputs": [],
   "source": []
  }
 ],
 "metadata": {
  "kernelspec": {
   "display_name": "Python 3 (ipykernel)",
   "language": "python",
   "name": "python3"
  },
  "language_info": {
   "codemirror_mode": {
    "name": "ipython",
    "version": 3
   },
   "file_extension": ".py",
   "mimetype": "text/x-python",
   "name": "python",
   "nbconvert_exporter": "python",
   "pygments_lexer": "ipython3",
   "version": "3.9.19"
  }
 },
 "nbformat": 4,
 "nbformat_minor": 5
}
